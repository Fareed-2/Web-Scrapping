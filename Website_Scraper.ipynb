{
  "nbformat": 4,
  "nbformat_minor": 0,
  "metadata": {
    "colab": {
      "provenance": [],
      "authorship_tag": "ABX9TyNQoJDECJshKlNMI6JZCmqs",
      "include_colab_link": true
    },
    "kernelspec": {
      "name": "python3",
      "display_name": "Python 3"
    },
    "language_info": {
      "name": "python"
    }
  },
  "cells": [
    {
      "cell_type": "markdown",
      "metadata": {
        "id": "view-in-github",
        "colab_type": "text"
      },
      "source": [
        "<a href=\"https://colab.research.google.com/github/Fareed-2/Web-Scrapping/blob/main/Website_Scraper.ipynb\" target=\"_parent\"><img src=\"https://colab.research.google.com/assets/colab-badge.svg\" alt=\"Open In Colab\"/></a>"
      ]
    },
    {
      "cell_type": "code",
      "execution_count": null,
      "metadata": {
        "colab": {
          "base_uri": "https://localhost:8080/"
        },
        "id": "zrZoCKwAfZY6",
        "outputId": "e194de21-4b46-4f6b-95c9-98f93366e864"
      },
      "outputs": [
        {
          "output_type": "stream",
          "name": "stdout",
          "text": [
            "Enter the website URL: https://www.fareed.vip\n",
            "\n",
            "Scraping complete! The text has been saved to 'scraped_text.txt'.\n"
          ]
        }
      ],
      "source": [
        "import requests\n",
        "from bs4 import BeautifulSoup\n",
        "\n",
        "def scrape_website_text(url):\n",
        "    \"\"\"\n",
        "    Scrapes all the text content from a given website URL.\n",
        "\n",
        "    Parameters:\n",
        "        url (str): The URL of the website to scrape.\n",
        "\n",
        "    Returns:\n",
        "        str: The text content of the website.\n",
        "    \"\"\"\n",
        "    try:\n",
        "        # Fetch the website content\n",
        "        response = requests.get(url)\n",
        "        response.raise_for_status()  # Raise an error for bad HTTP status codes\n",
        "\n",
        "        # Parse the HTML content\n",
        "        soup = BeautifulSoup(response.text, 'html.parser')\n",
        "\n",
        "        # Extract all the text\n",
        "        text = soup.get_text(separator=\"\\n\")  # Separate lines with a newline for readability\n",
        "        return text\n",
        "    except requests.exceptions.RequestException as e:\n",
        "        return f\"An error occurred: {e}\"\n",
        "\n",
        "# Example usage\n",
        "if __name__ == \"__main__\":\n",
        "    website_url = input(\"Enter the website URL: \")\n",
        "    content = scrape_website_text(website_url)\n",
        "\n",
        "    # Save the scraped text to a file\n",
        "    with open(\"scraped_text.txt\", \"w\", encoding=\"utf-8\") as file:\n",
        "        file.write(content)\n",
        "\n",
        "    print(\"\\nScraping complete! The text has been saved to 'scraped_text.txt'.\")"
      ]
    },
    {
      "cell_type": "code",
      "source": [
        "website_data = scrape_website_text(\"https://www.fareed.vip\")\n",
        "print(website_data)"
      ],
      "metadata": {
        "id": "9IEcd2-4fjKU",
        "colab": {
          "base_uri": "https://localhost:8080/"
        },
        "outputId": "0e24f1f1-f648-471a-83b8-2e973ef764e9"
      },
      "execution_count": 2,
      "outputs": [
        {
          "output_type": "stream",
          "name": "stdout",
          "text": [
            "Fareed's Portfolio\n",
            "Search this site\n",
            "Embedded Files\n",
            "Skip to main content\n",
            "Skip to navigation\n",
            "Fareed's Portfolio\n",
            "Homepage\n",
            "Resume\n",
            "Fareed's Portfolio\n",
            "Homepage\n",
            "Resume\n",
            "More\n",
            "Homepage\n",
            "Resume\n",
            "FAREED MOHAMMED\n",
            "Senior Data Scientist | Principal Data Scientist | Data Science Manager | Machine Learning Expert\n",
            "Driving Innovation through Data Science to Transform Business Outcomes\n",
            "SUMMARY\n",
            "I am a highly experienced \n",
            "Data Scientist\n",
            " \n",
            "with over \n",
            "seven years\n",
            " \n",
            "of success in developing, deploying, and optimizing\n",
            " \n",
            "AI/ML models\n",
            " \n",
            "that drive innovation and deliver substantial business impact. My career has spanned various industries, including \n",
            "healthcare, retail, government, and non-profit sectors\n",
            ", where I have led projects that generated significant revenue, enhanced operational efficiency, and enabled data-driven decision-making. I have a proven track record of delivering high-impact solutions by combining technical expertise with a strategic mindset, helping organizations turn complex data into actionable insights that fuel growth and transformation.\n",
            "My technical skill set includes proficiency in \n",
            "Python, R, SQL\n",
            ", and advanced machine learning frameworks such as TensorFlow and PyTorch. I have extensive experience working with cloud platforms like \n",
            "AWS, GCP, and Azure\n",
            ", allowing me to design and implement scalable data solutions that cater to a wide range of business needs. Whether it’s creating predictive models to optimize customer experiences, building recommendation systems to boost engagement, or leveraging data engineering techniques to streamline operations, I thrive on solving challenging problems and driving continuous improvement through data science.\n",
            "Throughout my career, I have had the privilege of working with \n",
            "cross-functional teams\n",
            ", including engineers, product managers, and executive stakeholders, to bring data-driven strategies to life. I am passionate about fostering collaboration and ensuring that data science initiatives are aligned with business objectives. I have a deep understanding of the \n",
            "end-to-end data science lifecycle\n",
            ", from data ingestion and feature engineering to model deployment and performance monitoring. My ability to communicate complex technical concepts to non-technical audiences has been instrumental in securing \n",
            "buy-in from key stakeholders\n",
            " and ensuring the successful implementation of data-driven solutions.\n",
            "In addition to my technical and leadership skills, I am deeply committed to \n",
            "innovation and continuous learning\n",
            ". I stay at the forefront of industry trends, regularly exploring new advancements in AI and machine learning to drive better outcomes for my clients and partners. I am also passionate about giving back to the community, having \n",
            "volunteered\n",
            " with organizations like Collective Liberty, AI4ALL, and Break Through Tech to help others harness the power of data for social good.\n",
            "With a relentless focus on excellence and impact, I am excited about the opportunity to continue making a difference in the field of data science by developing innovative solutions that address real-world challenges and unlock new possibilities for businesses and society.\n",
            "Google Sites\n",
            "Report abuse\n",
            "Page details\n",
            "Page updated\n",
            " \n",
            "Google Sites\n",
            "Report abuse\n"
          ]
        }
      ]
    },
    {
      "cell_type": "code",
      "source": [],
      "metadata": {
        "id": "H-tnKcQMhElc"
      },
      "execution_count": null,
      "outputs": []
    }
  ]
}