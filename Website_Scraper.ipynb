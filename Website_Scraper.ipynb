{
  "nbformat": 4,
  "nbformat_minor": 0,
  "metadata": {
    "colab": {
      "provenance": [],
      "authorship_tag": "ABX9TyP1QbfJZS7qpIuSxqQKGYJE",
      "include_colab_link": true
    },
    "kernelspec": {
      "name": "python3",
      "display_name": "Python 3"
    },
    "language_info": {
      "name": "python"
    }
  },
  "cells": [
    {
      "cell_type": "markdown",
      "metadata": {
        "id": "view-in-github",
        "colab_type": "text"
      },
      "source": [
        "<a href=\"https://colab.research.google.com/github/Fareed-2/Web-Scrapping/blob/main/Website_Scraper.ipynb\" target=\"_parent\"><img src=\"https://colab.research.google.com/assets/colab-badge.svg\" alt=\"Open In Colab\"/></a>"
      ]
    },
    {
      "cell_type": "code",
      "execution_count": null,
      "metadata": {
        "colab": {
          "base_uri": "https://localhost:8080/"
        },
        "id": "zrZoCKwAfZY6",
        "outputId": "e194de21-4b46-4f6b-95c9-98f93366e864"
      },
      "outputs": [
        {
          "output_type": "stream",
          "name": "stdout",
          "text": [
            "Enter the website URL: https://www.fareed.vip\n",
            "\n",
            "Scraping complete! The text has been saved to 'scraped_text.txt'.\n"
          ]
        }
      ],
      "source": [
        "import requests\n",
        "from bs4 import BeautifulSoup\n",
        "\n",
        "def scrape_website_text(url):\n",
        "    \"\"\"\n",
        "    Scrapes all the text content from a given website URL.\n",
        "\n",
        "    Parameters:\n",
        "        url (str): The URL of the website to scrape.\n",
        "\n",
        "    Returns:\n",
        "        str: The text content of the website.\n",
        "    \"\"\"\n",
        "    try:\n",
        "        # Fetch the website content\n",
        "        response = requests.get(url)\n",
        "        response.raise_for_status()  # Raise an error for bad HTTP status codes\n",
        "\n",
        "        # Parse the HTML content\n",
        "        soup = BeautifulSoup(response.text, 'html.parser')\n",
        "\n",
        "        # Extract all the text\n",
        "        text = soup.get_text(separator=\"\\n\")  # Separate lines with a newline for readability\n",
        "        return text\n",
        "    except requests.exceptions.RequestException as e:\n",
        "        return f\"An error occurred: {e}\"\n",
        "\n",
        "# Example usage\n",
        "if __name__ == \"__main__\":\n",
        "    website_url = input(\"Enter the website URL: \")\n",
        "    content = scrape_website_text(website_url)\n",
        "\n",
        "    # Save the scraped text to a file\n",
        "    with open(\"scraped_text.txt\", \"w\", encoding=\"utf-8\") as file:\n",
        "        file.write(content)\n",
        "\n",
        "    print(\"\\nScraping complete! The text has been saved to 'scraped_text.txt'.\")"
      ]
    },
    {
      "cell_type": "code",
      "source": [],
      "metadata": {
        "id": "9IEcd2-4fjKU"
      },
      "execution_count": null,
      "outputs": []
    }
  ]
}