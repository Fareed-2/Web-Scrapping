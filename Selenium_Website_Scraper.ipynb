{
  "nbformat": 4,
  "nbformat_minor": 0,
  "metadata": {
    "colab": {
      "provenance": [],
      "authorship_tag": "ABX9TyPMWNFzrnF5vNJKDPlEeNe1",
      "include_colab_link": true
    },
    "kernelspec": {
      "name": "python3",
      "display_name": "Python 3"
    },
    "language_info": {
      "name": "python"
    }
  },
  "cells": [
    {
      "cell_type": "markdown",
      "metadata": {
        "id": "view-in-github",
        "colab_type": "text"
      },
      "source": [
        "<a href=\"https://colab.research.google.com/github/Fareed-2/Web-Scrapping/blob/main/Selenium_Website_Scraper.ipynb\" target=\"_parent\"><img src=\"https://colab.research.google.com/assets/colab-badge.svg\" alt=\"Open In Colab\"/></a>"
      ]
    },
    {
      "cell_type": "code",
      "execution_count": 4,
      "metadata": {
        "id": "81ihuCFuip3D"
      },
      "outputs": [],
      "source": [
        "from selenium import webdriver\n",
        "from selenium.webdriver.common.by import By\n",
        "from selenium.webdriver.chrome.service import Service\n",
        "from selenium.webdriver.chrome.options import Options\n",
        "import time\n",
        "\n",
        "def scrape_dynamic_website_text(url):\n",
        "    \"\"\"\n",
        "    Scrapes all visible text content from a dynamic website using Selenium.\n",
        "\n",
        "    Parameters:\n",
        "        url (str): The URL of the website to scrape.\n",
        "\n",
        "    Returns:\n",
        "        str: The text content of the website.\n",
        "    \"\"\"\n",
        "    try:\n",
        "        # Configure Selenium WebDriver\n",
        "        chrome_options = Options()\n",
        "        chrome_options.add_argument('--headless')  # Run in headless mode\n",
        "        chrome_options.add_argument('--disable-gpu')  # Disable GPU for better compatibility\n",
        "        chrome_options.add_argument('--no-sandbox')  # Required for some environments\n",
        "        service = Service('chromedriver')  # Path to ChromeDriver executable\n",
        "        driver = webdriver.Chrome(service=service, options=chrome_options)\n",
        "\n",
        "        # Load the website\n",
        "        driver.get(url)\n",
        "        time.sleep(5)  # Wait for the content to load (adjust as needed)\n",
        "\n",
        "        # Extract all text from the body of the page\n",
        "        body = driver.find_element(By.TAG_NAME, 'body')\n",
        "        text = body.text\n",
        "\n",
        "        # Close the driver\n",
        "        driver.quit()\n",
        "\n",
        "        return text\n",
        "    except Exception as e:\n",
        "        return f\"An error occurred: {e}\""
      ]
    },
    {
      "cell_type": "code",
      "source": [
        "\n",
        "# Example usage\n",
        "if __name__ == \"__main__\":\n",
        "    website_url = input(\"Enter the website URL: \")\n",
        "    content = scrape_dynamic_website_text(website_url)\n",
        "\n",
        "    # Save the scraped text to a file\n",
        "    with open(\"dynamic_scraped_text.txt\", \"w\", encoding=\"utf-8\") as file:\n",
        "        file.write(content)\n",
        "\n",
        "    print(\"\\nScraping complete! The text has been saved to 'dynamic_scraped_text.txt'.\")"
      ],
      "metadata": {
        "id": "hLpEnPzRjXga"
      },
      "execution_count": null,
      "outputs": []
    },
    {
      "cell_type": "code",
      "source": [
        "data = scrape_dynamic_website_text(\"https://www.fareed.vip\")\n",
        "data"
      ],
      "metadata": {
        "id": "xBT_aGtsixMO"
      },
      "execution_count": null,
      "outputs": []
    },
    {
      "cell_type": "code",
      "source": [],
      "metadata": {
        "id": "DgC3eziPi3tV"
      },
      "execution_count": null,
      "outputs": []
    }
  ]
}