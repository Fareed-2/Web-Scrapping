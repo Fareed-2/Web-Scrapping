{
  "nbformat": 4,
  "nbformat_minor": 0,
  "metadata": {
    "colab": {
      "provenance": [],
      "authorship_tag": "ABX9TyNmCvHA7rvTkVY0AFhFVAOE",
      "include_colab_link": true
    },
    "kernelspec": {
      "name": "python3",
      "display_name": "Python 3"
    },
    "language_info": {
      "name": "python"
    }
  },
  "cells": [
    {
      "cell_type": "markdown",
      "metadata": {
        "id": "view-in-github",
        "colab_type": "text"
      },
      "source": [
        "<a href=\"https://colab.research.google.com/github/Fareed-2/Web-Scrapping/blob/main/Google_Search_Results_Scrapper.ipynb\" target=\"_parent\"><img src=\"https://colab.research.google.com/assets/colab-badge.svg\" alt=\"Open In Colab\"/></a>"
      ]
    },
    {
      "cell_type": "code",
      "source": [
        "pip install googlesearch-python"
      ],
      "metadata": {
        "colab": {
          "base_uri": "https://localhost:8080/",
          "height": 317
        },
        "id": "G_iStRFVEaMb",
        "outputId": "777d55b3-aea6-4505-d8c3-76d604d9d401"
      },
      "execution_count": 11,
      "outputs": [
        {
          "output_type": "stream",
          "name": "stdout",
          "text": [
            "Collecting googlesearch-python\n",
            "  Downloading googlesearch_python-1.2.5-py3-none-any.whl.metadata (2.9 kB)\n",
            "Requirement already satisfied: beautifulsoup4>=4.9 in /usr/local/lib/python3.10/dist-packages (from googlesearch-python) (4.12.3)\n",
            "Requirement already satisfied: requests>=2.20 in /usr/local/lib/python3.10/dist-packages (from googlesearch-python) (2.32.3)\n",
            "Requirement already satisfied: soupsieve>1.2 in /usr/local/lib/python3.10/dist-packages (from beautifulsoup4>=4.9->googlesearch-python) (2.6)\n",
            "Requirement already satisfied: charset-normalizer<4,>=2 in /usr/local/lib/python3.10/dist-packages (from requests>=2.20->googlesearch-python) (3.4.0)\n",
            "Requirement already satisfied: idna<4,>=2.5 in /usr/local/lib/python3.10/dist-packages (from requests>=2.20->googlesearch-python) (3.10)\n",
            "Requirement already satisfied: urllib3<3,>=1.21.1 in /usr/local/lib/python3.10/dist-packages (from requests>=2.20->googlesearch-python) (2.2.3)\n",
            "Requirement already satisfied: certifi>=2017.4.17 in /usr/local/lib/python3.10/dist-packages (from requests>=2.20->googlesearch-python) (2024.8.30)\n",
            "Downloading googlesearch_python-1.2.5-py3-none-any.whl (4.8 kB)\n",
            "Installing collected packages: googlesearch-python\n",
            "Successfully installed googlesearch-python-1.2.5\n"
          ]
        },
        {
          "output_type": "display_data",
          "data": {
            "application/vnd.colab-display-data+json": {
              "pip_warning": {
                "packages": [
                  "googlesearch"
                ]
              },
              "id": "a5f44bcbcdc74836a9eea52667f618a7"
            }
          },
          "metadata": {}
        }
      ]
    },
    {
      "cell_type": "code",
      "execution_count": 3,
      "metadata": {
        "id": "pKI3o5Ny-WiR"
      },
      "outputs": [],
      "source": [
        "from googlesearch import search"
      ]
    },
    {
      "cell_type": "code",
      "source": [
        "def get_google_links ( keyword, num=5, lang='en', region='us', safe=True, advanced=False, sleep_interval=5):\n",
        "  \"\"\"\n",
        "  Searches google for the given keyword and returns the top num_results links.\n",
        "\n",
        "  Parameters:\n",
        "    keyword (str): The keyword to search for.\n",
        "    num_results (int): The number of results to return.\n",
        "\n",
        "  Returns:\n",
        "    links:A list of the top num_results links suggested by google.\n",
        "  \"\"\"\n",
        "  try:\n",
        "    #perform the google search\n",
        "    links = list(search(keyword, num_results=num))\n",
        "    return links\n",
        "  except Exception as e:\n",
        "    print(f\"An error occured: {e}\")\n",
        "    return []\n"
      ],
      "metadata": {
        "id": "Cotlw0UY-10C"
      },
      "execution_count": 4,
      "outputs": []
    },
    {
      "cell_type": "code",
      "source": [
        "# Sample code\n",
        "keyword = \"revenue of Apple\"\n",
        "top_links = get_google_links(keyword,num=5)\n",
        "for idx,link in enumerate(top_links):\n",
        "  print(f\"{idx+1}. {link}\")"
      ],
      "metadata": {
        "colab": {
          "base_uri": "https://localhost:8080/"
        },
        "id": "8szMo1Kq_tAS",
        "outputId": "61063490-6449-4aef-af17-aec1c18ad85c"
      },
      "execution_count": 5,
      "outputs": [
        {
          "output_type": "stream",
          "name": "stdout",
          "text": [
            "1. https://www.apple.com/newsroom/2024/10/apple-reports-fourth-quarter-results/\n",
            "2. https://www.statista.com/statistics/265125/total-net-sales-of-apple-since-2004/\n",
            "3. https://www.macrotrends.net/stocks/charts/AAPL/apple/revenue\n",
            "4. https://companiesmarketcap.com/apple/revenue/\n",
            "5. https://www.businessofapps.com/data/apple-statistics/\n"
          ]
        }
      ]
    },
    {
      "cell_type": "code",
      "source": [],
      "metadata": {
        "id": "Tycqfh9nBDzr"
      },
      "execution_count": null,
      "outputs": []
    }
  ]
}